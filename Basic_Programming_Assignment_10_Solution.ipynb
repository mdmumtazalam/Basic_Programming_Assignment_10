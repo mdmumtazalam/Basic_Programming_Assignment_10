{
  "cells": [
    {
      "cell_type": "markdown",
      "id": "6d0ba3d7",
      "metadata": {
        "id": "6d0ba3d7"
      },
      "source": [
        "# Basic_Programming_Assignment_10 Solution :-\n",
        "SUBMITTED BY : MD MUMTAZ ALAM"
      ]
    },
    {
      "cell_type": "markdown",
      "id": "d1b84081",
      "metadata": {
        "id": "d1b84081"
      },
      "source": [
        "## 1.Write a Python Program to find sum of elements in a list ?"
      ]
    },
    {
      "cell_type": "code",
      "execution_count": null,
      "id": "9682894d",
      "metadata": {
        "id": "9682894d",
        "outputId": "168b14ed-4c40-4796-e7ed-bc6f747489b0"
      },
      "outputs": [
        {
          "name": "stdout",
          "output_type": "stream",
          "text": [
            "Enter the No of Entries in a List: 10\n",
            "Enter a element: 5\n",
            "Enter a element: 7\n",
            "Enter a element: 9\n",
            "Enter a element: 12\n",
            "Enter a element: 15\n",
            "Enter a element: 17\n",
            "Enter a element: 21\n",
            "Enter a element: 26\n",
            "Enter a element: 31\n",
            "Enter a element: 35\n",
            "Sum of Elements: 178\n"
          ]
        }
      ],
      "source": [
        "def sumofList():\n",
        "    in_ele = int(input('Enter the No of Entries in a List: '))\n",
        "    in_list = []\n",
        "    for itr in range(in_ele):\n",
        "        in_list.append(int(input('Enter a element: ')))\n",
        "    print(f'Sum of Elements: {sum(in_list)}')\n",
        "\n",
        "sumofList()"
      ]
    },
    {
      "cell_type": "markdown",
      "id": "3b0cf7c7",
      "metadata": {
        "id": "3b0cf7c7"
      },
      "source": [
        "## 2.Write a Python Program to multiply all numbers in the list ?"
      ]
    },
    {
      "cell_type": "code",
      "execution_count": null,
      "id": "d6de7dcc",
      "metadata": {
        "id": "d6de7dcc",
        "outputId": "9528d498-769d-44f1-f56a-98613b2679ee"
      },
      "outputs": [
        {
          "name": "stdout",
          "output_type": "stream",
          "text": [
            "Enter the No of Entries in a List: 4\n",
            "Enter a element: 3\n",
            "Enter a element: 5\n",
            "Enter a element: 2\n",
            "Enter a element: 7\n",
            "210\n"
          ]
        }
      ],
      "source": [
        "def mulofList():\n",
        "    in_ele = int(input('Enter the No of Entries in a List: '))\n",
        "    in_list = []\n",
        "    mul = 1\n",
        "    for itr in range(in_ele):\n",
        "        in_list.append(int(input('Enter a element: ')))\n",
        "    for ele in in_list:\n",
        "        mul = mul * ele\n",
        "    print(mul)\n",
        "\n",
        "mulofList()"
      ]
    },
    {
      "cell_type": "markdown",
      "id": "db630a2d",
      "metadata": {
        "id": "db630a2d"
      },
      "source": [
        "## 3.Write a Python Program to find smallest number in the list ?"
      ]
    },
    {
      "cell_type": "code",
      "execution_count": null,
      "id": "bb0ccf4d",
      "metadata": {
        "id": "bb0ccf4d",
        "outputId": "61a906e6-51fb-4585-def5-c1875e5eec4a"
      },
      "outputs": [
        {
          "name": "stdout",
          "output_type": "stream",
          "text": [
            "Enter the No of elements in a list: 4\n",
            "Enter a Element: 3\n",
            "Enter a Element: 5\n",
            "Enter a Element: 8\n",
            "Enter a Element: 66\n",
            "The Smallest Element in [3, 5, 8, 66] is 3\n"
          ]
        }
      ],
      "source": [
        "def smallEleInList():\n",
        "    in_ele = int(input('Enter the No of elements in a list: '))\n",
        "    in_list = []\n",
        "    for ele in range(in_ele):\n",
        "        in_list.append(int(input('Enter a Element: ')))\n",
        "    print(f'The Smallest Element in {in_list} is {sorted(in_list)[0]}')\n",
        "smallEleInList()"
      ]
    },
    {
      "cell_type": "markdown",
      "id": "caea309d",
      "metadata": {
        "id": "caea309d"
      },
      "source": [
        "## 4.Write a Python Program to find largest number in the list ?"
      ]
    },
    {
      "cell_type": "code",
      "execution_count": null,
      "id": "257afb79",
      "metadata": {
        "id": "257afb79",
        "outputId": "9431a73a-8fef-48bc-a9dc-7162e253a6b7"
      },
      "outputs": [
        {
          "name": "stdout",
          "output_type": "stream",
          "text": [
            "Enter the No of elements in a list: 5\n",
            "Enter a Element: 3\n",
            "Enter a Element: 9\n",
            "Enter a Element: 345\n",
            "Enter a Element: 31\n",
            "Enter a Element: 22\n",
            "The Largest Element in [3, 9, 345, 31, 22] is 345\n"
          ]
        }
      ],
      "source": [
        "def largestEleInList():\n",
        "    in_ele = int(input('Enter the No of elements in a list: '))\n",
        "    in_list = []\n",
        "    for ele in range(in_ele):\n",
        "        in_list.append(int(input('Enter a Element: ')))\n",
        "    print(f'The Largest Element in {in_list} is {sorted(in_list, reverse=True)[0]}')\n",
        "\n",
        "largestEleInList()"
      ]
    },
    {
      "cell_type": "markdown",
      "id": "24374d75",
      "metadata": {
        "id": "24374d75"
      },
      "source": [
        "## 5.Write a Python Program to find second largest number in the list ?"
      ]
    },
    {
      "cell_type": "code",
      "execution_count": null,
      "id": "9c05f4ae",
      "metadata": {
        "id": "9c05f4ae",
        "outputId": "0cd7b072-243f-4b4d-bef1-b87fc3b48b6b"
      },
      "outputs": [
        {
          "name": "stdout",
          "output_type": "stream",
          "text": [
            "Enter the No of elements in a list: 3\n",
            "Enter a Element: 22\n",
            "Enter a Element: 44\n",
            "Enter a Element: 55\n",
            "The Second Largest Element in [22, 44, 55] is 44\n"
          ]
        }
      ],
      "source": [
        "def secondLargestEleInList():\n",
        "    in_ele = int(input('Enter the No of elements in a list: '))\n",
        "    in_list = []\n",
        "    for ele in range(in_ele):\n",
        "        in_list.append(int(input('Enter a Element: ')))\n",
        "    print(f'The Second Largest Element in {in_list} is {sorted(in_list, reverse=True)[1]}')\n",
        "\n",
        "secondLargestEleInList()\n"
      ]
    },
    {
      "cell_type": "markdown",
      "id": "3338fbc4",
      "metadata": {
        "id": "3338fbc4"
      },
      "source": [
        "## 6.Write a Python Program to find N largest elements in the list ?"
      ]
    },
    {
      "cell_type": "code",
      "execution_count": null,
      "id": "df25232e",
      "metadata": {
        "id": "df25232e",
        "outputId": "24d0d9bb-f1b0-4049-a58d-533bc05a51ec"
      },
      "outputs": [
        {
          "name": "stdout",
          "output_type": "stream",
          "text": [
            "Enter the No of elements in a list: 4\n",
            "Enter a Element: 4\n",
            "Enter a Element: 7\n",
            "Enter a Element: 99\n",
            "Enter a Element: 33\n",
            "The 4 Largest Element in [4, 7, 99, 33] is [99, 33, 7, 4]\n"
          ]
        }
      ],
      "source": [
        "def nLargestEleInList(k):\n",
        "    in_ele = int(input('Enter the No of elements in a list: '))\n",
        "    in_list = []\n",
        "    for ele in range(in_ele):\n",
        "        in_list.append(int(input('Enter a Element: ')))\n",
        "    print(f'The {k} Largest Element in {in_list} is {sorted(in_list, reverse=True)[0:k]}')\n",
        "\n",
        "nLargestEleInList(4)"
      ]
    },
    {
      "cell_type": "markdown",
      "id": "9b864517",
      "metadata": {
        "id": "9b864517"
      },
      "source": [
        "## 7.Write a Python Program to find even numbers in the list ?"
      ]
    },
    {
      "cell_type": "code",
      "execution_count": null,
      "id": "0f286039",
      "metadata": {
        "id": "0f286039",
        "outputId": "eba142d1-58bd-43a4-e6c6-2159536db9fa"
      },
      "outputs": [
        {
          "name": "stdout",
          "output_type": "stream",
          "text": [
            "Enter the No of elements in a list: 3\n",
            "Enter a Element: 2\n",
            "Enter a Element: 3\n",
            "Enter a Element: 44\n",
            "The Even Elements in [2, 3, 44] are [2, 44]\n"
          ]
        }
      ],
      "source": [
        "def evenNoInList():\n",
        "    in_ele = int(input('Enter the No of elements in a list: '))\n",
        "    in_list = []\n",
        "    even_list = []\n",
        "    for ele in range(in_ele):\n",
        "        in_list.append(int(input('Enter a Element: ')))\n",
        "    for ele in in_list:\n",
        "        if ele%2 == 0:\n",
        "            even_list.append(ele)\n",
        "    print(f'The Even Elements in {in_list} are {even_list}')\n",
        "\n",
        "evenNoInList()"
      ]
    },
    {
      "cell_type": "markdown",
      "id": "69b8feee",
      "metadata": {
        "id": "69b8feee"
      },
      "source": [
        "## 8.Write a Python Program to find odd numbers in the list ?"
      ]
    },
    {
      "cell_type": "code",
      "execution_count": null,
      "id": "4843d4bd",
      "metadata": {
        "id": "4843d4bd",
        "outputId": "f52b2b96-c69a-4e36-dd8d-6f0191926052"
      },
      "outputs": [
        {
          "name": "stdout",
          "output_type": "stream",
          "text": [
            "Enter the No of elements in a list: 4\n",
            "Enter a Element: 22\n",
            "Enter a Element: 3\n",
            "Enter a Element: 77\n",
            "Enter a Element: 2\n",
            "The Even Elements in [22, 3, 77, 2] are [3, 77]\n"
          ]
        }
      ],
      "source": [
        "def oddNoInList():\n",
        "    in_ele = int(input('Enter the No of elements in a list: '))\n",
        "    in_list = []\n",
        "    odd_list = []\n",
        "    for ele in range(in_ele):\n",
        "        in_list.append(int(input('Enter a Element: ')))\n",
        "    for ele in in_list:\n",
        "        if ele%2 != 0:\n",
        "            odd_list.append(ele)\n",
        "    print(f'The Even Elements in {in_list} are {odd_list}')\n",
        "\n",
        "oddNoInList()"
      ]
    },
    {
      "cell_type": "markdown",
      "id": "92d5f77d",
      "metadata": {
        "id": "92d5f77d"
      },
      "source": [
        "## 9.Write a Python Program to remove empty list from list ?"
      ]
    },
    {
      "cell_type": "code",
      "execution_count": null,
      "id": "77087666",
      "metadata": {
        "id": "77087666",
        "outputId": "c4caa6c7-5617-4d48-c9c7-db90a9ed8de7"
      },
      "outputs": [
        {
          "name": "stdout",
          "output_type": "stream",
          "text": [
            "Enter all elements of the list: [ 1,2,5,7,99,43,[],3,6,11 ]\n",
            "There is an Empty list in [1, 2, 5, 7, 99, 43, [], 3, 6, 11] at Position 6\n",
            "The List after removing [] is [1, 2, 5, 7, 99, 43, 3, 6, 11]\n"
          ]
        }
      ],
      "source": [
        "def checkEmptyList():\n",
        "    in_list = eval(input('Enter all elements of the list: '))\n",
        "    if [] in in_list:\n",
        "        print(f'There is an Empty list in {in_list} at Position {in_list.index([])}')\n",
        "        in_list.remove([])\n",
        "        print(f'The List after removing [] is {in_list}')\n",
        "    else:\n",
        "        print(f'There is no [] List in the list {in_list}')\n",
        "        \n",
        "checkEmptyList()"
      ]
    },
    {
      "cell_type": "markdown",
      "id": "1d1302e9",
      "metadata": {
        "id": "1d1302e9"
      },
      "source": [
        "## 10.Write a Python Program to Cloning or Copying a list ?"
      ]
    },
    {
      "cell_type": "code",
      "execution_count": null,
      "id": "3265a4ec",
      "metadata": {
        "id": "3265a4ec",
        "outputId": "74a476f8-d497-459b-8b79-ce21af6896d1"
      },
      "outputs": [
        {
          "name": "stdout",
          "output_type": "stream",
          "text": [
            "Enter a list[1,2,3,4,5,6,7,8,9,0]\n",
            "[1, 2, 3, 4, 5, 6, 7, 8, 9, 0] 1850395995968\n",
            "[1, 2, 3, 4, 5, 6, 7, 8, 9, 0] 1850395993728\n"
          ]
        }
      ],
      "source": [
        "import copy\n",
        "\n",
        "def cloneList():\n",
        "    in_list = eval(input('Enter a list'))\n",
        "    print(in_list, id(in_list))\n",
        "    cloned_list = in_list.copy()\n",
        "    print(cloned_list, id(cloned_list))\n",
        "\n",
        "cloneList()"
      ]
    },
    {
      "cell_type": "markdown",
      "id": "0357b459",
      "metadata": {
        "id": "0357b459"
      },
      "source": [
        "## 11.Write a Python Program to count occurences of an element in a list ?"
      ]
    },
    {
      "cell_type": "code",
      "execution_count": null,
      "id": "7c20e41b",
      "metadata": {
        "id": "7c20e41b",
        "outputId": "a9f3ac6f-e1d6-455a-e978-f25d51f90fee"
      },
      "outputs": [
        {
          "name": "stdout",
          "output_type": "stream",
          "text": [
            "Enter the elements of the list: [1,2,3,6,2,3,4,6,8,2,1,3,6]\n",
            "Enter the element to find: 6\n",
            "There are 3 occurences of 6 in [1, 2, 3, 6, 2, 3, 4, 6, 8, 2, 1, 3, 6]\n"
          ]
        }
      ],
      "source": [
        "def checkOccurence():\n",
        "    in_list = eval(input('Enter the elements of the list: '))\n",
        "    in_num = eval(input('Enter the element to find: '))\n",
        "    count = 0\n",
        "    if in_num in in_list:\n",
        "        for ele in in_list:\n",
        "            if ele == in_num:\n",
        "                count = count+1\n",
        "    print(f'There are {count} occurences of {in_num} in {in_list}')\n",
        "    \n",
        "checkOccurence()"
      ]
    },
    {
      "cell_type": "markdown",
      "id": "6f2bb188",
      "metadata": {
        "id": "6f2bb188"
      },
      "source": [
        "# Thank You"
      ]
    }
  ],
  "metadata": {
    "kernelspec": {
      "display_name": "Python 3 (ipykernel)",
      "language": "python",
      "name": "python3"
    },
    "language_info": {
      "codemirror_mode": {
        "name": "ipython",
        "version": 3
      },
      "file_extension": ".py",
      "mimetype": "text/x-python",
      "name": "python",
      "nbconvert_exporter": "python",
      "pygments_lexer": "ipython3",
      "version": "3.9.7"
    },
    "colab": {
      "provenance": []
    }
  },
  "nbformat": 4,
  "nbformat_minor": 5
}